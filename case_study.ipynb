{
 "cells": [
  {
   "cell_type": "markdown",
   "metadata": {},
   "source": [
    "# **Pacflix Video Streaming Service**\n",
    "---"
   ]
  },
  {
   "cell_type": "markdown",
   "metadata": {},
   "source": [
    "## **Study Case**"
   ]
  },
  {
   "cell_type": "markdown",
   "metadata": {},
   "source": [
    "* To check whether the program created is **working correctly**, it needs to be tested with the following **case studies**.\n",
    "\n",
    "* Before we begin to our first test case, we need to import **User** class from main.py\n"
   ]
  },
  {
   "cell_type": "code",
   "execution_count": 2,
   "metadata": {},
   "outputs": [],
   "source": [
    "from main import User"
   ]
  },
  {
   "cell_type": "markdown",
   "metadata": {},
   "source": [
    "### **Case 1 - Checking Available Subscription Plans**"
   ]
  },
  {
   "cell_type": "markdown",
   "metadata": {},
   "source": [
    "* A user named Cahya wants to **check** what **subscription plans** are available at PacFlix\n",
    "* input : --\n",
    "* output : List of all vailable subscription plans as in **Table 1.**"
   ]
  },
  {
   "cell_type": "markdown",
   "metadata": {},
   "source": [
    "<center>\n",
    "\n",
    "| **Basic Plan**       | **Standard Plan**                                       | **Premium Plan**                                               | **Services**   |\n",
    "|----------------------|---------------------------------------------------------|----------------------------------------------------------------|----------------|\n",
    "| ✓                    | ✓                                                       | ✓                                                              | can_stream     |\n",
    "| ✓                    | ✓                                                       | ✓                                                              | can_download   |\n",
    "| ✓                    | ✓                                                       | ✓                                                              | has_SD         |\n",
    "|                      | ✓                                                       | ✓                                                              | has_HD         |\n",
    "|                      |                                                         | ✓                                                              | has_UHD        |\n",
    "| 1                    | 2                                                       | 4                                                              | num_of_devices |\n",
    "| 3rd party movie only | Basic Plan Content + Sports  (F1, Football, Basketball) | Basic Plan + Standard Plan +  PacFlix Original Series or Movie | content        |\n",
    "| Rp 120.000,-         | Rp 160.000,-                                            | Rp 200.000,-                                                   | price          |\n",
    "\n",
    "**Table 1.** List of All Available Plans in Pacflix"
   ]
  },
  {
   "cell_type": "markdown",
   "metadata": {},
   "source": [
    "### **Answer**"
   ]
  },
  {
   "cell_type": "code",
   "execution_count": 3,
   "metadata": {},
   "outputs": [
    {
     "name": "stdout",
     "output_type": "stream",
     "text": [
      "You've sucessfully registered as Cahya\n",
      "\n",
      "Your referral code is CAHYA14765\n",
      "\n",
      "Note : You can't use your own referral code\n"
     ]
    }
   ],
   "source": [
    "# Register Cahya as user_1 in User class\n",
    "user_1 = User('Cahya')"
   ]
  },
  {
   "cell_type": "markdown",
   "metadata": {},
   "source": [
    "We have sucessfully registered Cahya as User. Cahya will now have a referral code he can share to other people so the others will get 4% discount."
   ]
  },
  {
   "cell_type": "code",
   "execution_count": 4,
   "metadata": {},
   "outputs": [
    {
     "name": "stdout",
     "output_type": "stream",
     "text": [
      "PacFlix Plan List\n",
      "\n",
      "Basic Plan            Standard Plan                Premium Plan                                          Services\n",
      "--------------------  ---------------------------  ----------------------------------------------------  -----------------\n",
      "True                  True                         True                                                  Bisa Stream\n",
      "True                  True                         True                                                  Bisa Download\n",
      "True                  True                         True                                                  Kualitas SD\n",
      "False                 True                         True                                                  Kualitas HD\n",
      "False                 False                        True                                                  Kualitas UHD\n",
      "1                     2                            4                                                     Number of Devices\n",
      "3rd party Movie only  Basic Plan Content + Sports  Basic Plan + Standard Plan + PacFlix Original Series  Jenis Konten\n",
      "Rp 120.000,00         Rp 160.000,00                Rp 200.000,00                                         Harga per Bulan\n"
     ]
    }
   ],
   "source": [
    "# Checking all available subscription plans\n",
    "user_1.check_benefit()"
   ]
  },
  {
   "cell_type": "markdown",
   "metadata": {},
   "source": [
    "We have sucessfully check all the subscription plans available in the PacFlix using check_benefit() function."
   ]
  },
  {
   "cell_type": "markdown",
   "metadata": {},
   "source": [
    "### **Case 2 - Subscribing to a plan using referral code**"
   ]
  },
  {
   "cell_type": "markdown",
   "metadata": {},
   "source": [
    "#### **Case 2.1 - Valid Referral Code**"
   ]
  },
  {
   "cell_type": "markdown",
   "metadata": {},
   "source": [
    "* There's a new user named Faizal. He want to subscribe to a Standard Plan and he is using a referral code from Cahya.\n",
    "* input : The user will be asked to choose the plan, duration, and referral code.\n",
    "* output : The total amount of money Faizal have to pay."
   ]
  },
  {
   "cell_type": "code",
   "execution_count": 5,
   "metadata": {},
   "outputs": [
    {
     "name": "stdout",
     "output_type": "stream",
     "text": [
      "You've sucessfully registered as Faizal\n",
      "\n",
      "Your referral code is FAIZAL29130\n",
      "\n",
      "Note : You can't use your own referral code\n"
     ]
    }
   ],
   "source": [
    "# Register Faizal as user_2 in User class\n",
    "user_2 = User('Faizal')"
   ]
  },
  {
   "cell_type": "markdown",
   "metadata": {},
   "source": [
    "We have sucessfully registered Faizal as user_2. Now Faizal will also have a referral code he can share."
   ]
  },
  {
   "cell_type": "code",
   "execution_count": 6,
   "metadata": {},
   "outputs": [
    {
     "name": "stdout",
     "output_type": "stream",
     "text": [
      "\n",
      "You've used CAHYA14765 referral code, you'll get 4% discount\n",
      "\n",
      "You've subscribed Standard Plan for 1 months!\n",
      "The price will be : Rp. 153.600,00\n",
      "\n",
      "Your plan will be active until 31-03-2024 at 23:54\n"
     ]
    }
   ],
   "source": [
    "# Subscribe to a plan using pick_plan() function\n",
    "user_2.pick_plan()"
   ]
  },
  {
   "cell_type": "markdown",
   "metadata": {},
   "source": [
    "As you can see, when using pick_plan() function, the user will be prompted to input :\n",
    "\n",
    "* **Subscription Plan** : The plan should existed in the check_benefit table or else the user will be prompted to input another name.\n",
    "\n",
    "* **Duration** : The duration of the subscription quantity is month and it must be an integer. If user give a non-integer input, the user will bre prompted to input another until the user give an integer input.\n",
    "\n",
    "* **Have referral code?** : The user should answer with y (have referral code) or n (don't have referral code). If the user answer with any other else, the user will be prompted to gave an input again and again until user give y or n input.\n",
    "\n",
    "* **Referral Code** : If the user answer with y for the 3rd input, user will be prompted to input a referral code. If the referral code is valid, the user will get 4% discount."
   ]
  },
  {
   "cell_type": "markdown",
   "metadata": {},
   "source": [
    "Faizal have submit a valid referral code. So he get a **4% discount** from Rp. 160.000,00 to Rp. 153.600,00 on the Standard Plan."
   ]
  },
  {
   "cell_type": "markdown",
   "metadata": {},
   "source": [
    "#### **Case 2.2 - Invalid Referral Code**"
   ]
  },
  {
   "cell_type": "markdown",
   "metadata": {},
   "source": [
    "* Let's say now Cahya, want to subsribe to a plan. Cahya doesn't have any referral code from existing user but he want to cheat and try generate random referral code.\n",
    "* input : The user will be asked to choose the plan, duration, and referral code.\n",
    "* output : The total amount of money Faizal have to pay.\n"
   ]
  },
  {
   "cell_type": "code",
   "execution_count": 7,
   "metadata": {},
   "outputs": [
    {
     "name": "stdout",
     "output_type": "stream",
     "text": [
      "\n",
      "Your Referral Code couldn't be used or invalid\n",
      "\n",
      "You've subscribed Premium Plan for 1 months!\n",
      "The price will be : Rp. 200.000,00\n",
      "\n",
      "Your plan will be active until 31-03-2024 at 23:54\n"
     ]
    }
   ],
   "source": [
    "user_1.pick_plan()"
   ]
  },
  {
   "cell_type": "markdown",
   "metadata": {},
   "source": [
    "As you can see, the program is detecting that Cahya is using an invalid referral code so Cahya wont get any discount."
   ]
  },
  {
   "cell_type": "markdown",
   "metadata": {},
   "source": [
    "### **Case 3 - Checking Active Subscription Plan**"
   ]
  },
  {
   "cell_type": "markdown",
   "metadata": {},
   "source": [
    "* Now, user_2 aka Faizal want to check his current active subscription plan in PacFlix.\n",
    "* input : --\n",
    "* output : subscribed plan name, duration left, subscription end date."
   ]
  },
  {
   "cell_type": "code",
   "execution_count": 8,
   "metadata": {},
   "outputs": [
    {
     "name": "stdout",
     "output_type": "stream",
     "text": [
      "\n",
      "You're currently subscribed to Standard Plan\n",
      "You're plan is still active until 31-03-2024 at 23:54\n"
     ]
    }
   ],
   "source": [
    "# Checking active subscription plan using check_plan()\n",
    "user_2.check_plan()"
   ]
  },
  {
   "cell_type": "markdown",
   "metadata": {},
   "source": [
    "As you can see, Faizal get the information regarding his current subscription plan and the end date of the subscription."
   ]
  },
  {
   "cell_type": "markdown",
   "metadata": {},
   "source": [
    "### **Case 4 - Upgrade Subscription Plan**"
   ]
  },
  {
   "cell_type": "markdown",
   "metadata": {},
   "source": [
    "* There's a new user named Ana. Ana choose to subscribe standard plan for 13 month.\n",
    "* After subscribing, Ana change her mind and want to upgrade the plan into the Premium Plan.\n",
    "* input : User will be prompted to input new plan\n",
    "* output : Total upgrade price, discount 5% if current plan have more than 12 month duration left."
   ]
  },
  {
   "cell_type": "code",
   "execution_count": 9,
   "metadata": {},
   "outputs": [
    {
     "name": "stdout",
     "output_type": "stream",
     "text": [
      "You've sucessfully registered as Ana\n",
      "\n",
      "Your referral code is ANA99657\n",
      "\n",
      "Note : You can't use your own referral code\n"
     ]
    }
   ],
   "source": [
    "user_3 = User('Ana')"
   ]
  },
  {
   "cell_type": "code",
   "execution_count": 10,
   "metadata": {},
   "outputs": [
    {
     "name": "stdout",
     "output_type": "stream",
     "text": [
      "\n",
      "You've subscribed Standard Plan for 13 months!\n",
      "The price will be : Rp. 2.080.000,00\n",
      "\n",
      "Your plan will be active until 26-03-2025 at 23:55\n"
     ]
    }
   ],
   "source": [
    "# Pick first plan\n",
    "user_3.pick_plan()"
   ]
  },
  {
   "cell_type": "code",
   "execution_count": 11,
   "metadata": {},
   "outputs": [
    {
     "name": "stdout",
     "output_type": "stream",
     "text": [
      "\n",
      "You're currently subscribed to Standard Plan, You can't downgrade to Basic Plan\n",
      "Please select another plan you want to upgrade to!\n",
      "\n",
      "You're already subscribed to Standard Plan\n",
      "Please select another plan you want to upgrade to!\n",
      "\n",
      "Sucessfully upgraded from Standard Plan to Premium Plan.\n",
      "The total upgrade price will be Rp. 2.470.000,00\n"
     ]
    }
   ],
   "source": [
    "# Upgrade plan\n",
    "user_3.upgrade_plan()"
   ]
  },
  {
   "cell_type": "markdown",
   "metadata": {},
   "source": [
    "As you can see, when using upgrade_plan() user will be ask for a new plan to upgrade to. But, the new plan have to be higher than previous plan."
   ]
  }
 ],
 "metadata": {
  "kernelspec": {
   "display_name": "Python 3",
   "language": "python",
   "name": "python3"
  },
  "language_info": {
   "codemirror_mode": {
    "name": "ipython",
    "version": 3
   },
   "file_extension": ".py",
   "mimetype": "text/x-python",
   "name": "python",
   "nbconvert_exporter": "python",
   "pygments_lexer": "ipython3",
   "version": "3.11.5"
  }
 },
 "nbformat": 4,
 "nbformat_minor": 2
}
